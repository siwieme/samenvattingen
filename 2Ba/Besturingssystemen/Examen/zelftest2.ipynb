{
 "cells": [
  {
   "cell_type": "markdown",
   "metadata": {},
   "source": [
    "Belangrijke commando's die niet benadrukt zijn tijdens de werkcolleges!"
   ]
  },
  {
   "cell_type": "markdown",
   "metadata": {},
   "source": [
    "# Zelftest2"
   ]
  },
  {
   "cell_type": "markdown",
   "metadata": {},
   "source": [
    "1. Zoek naar alle bestanden of symlinks met een grootte van 1M of die de voorbije 24u werden gewijzigd."
   ]
  },
  {
   "cell_type": "code",
   "execution_count": null,
   "metadata": {
    "vscode": {
     "languageId": "shellscript"
    }
   },
   "outputs": [],
   "source": [
    "%%bash\n",
    "find /root \\( -type f -o -type l \\) -a \\( -size +1M -o -mtime -1 \\)"
   ]
  },
  {
   "cell_type": "markdown",
   "metadata": {},
   "source": [
    "2. Geef hieronder de opdracht of pipeline van opdrachten om de bovenstaande uitvoer te ordenen op basis van het inodenummer (grootste eerst, kleinste laatst)."
   ]
  },
  {
   "cell_type": "code",
   "execution_count": null,
   "metadata": {
    "vscode": {
     "languageId": "shellscript"
    }
   },
   "outputs": [],
   "source": [
    "%%bash\n",
    "find /root \\( -type f -o -type l \\) -a \\( -size +1M -o -mtime -1 \\) -printf \"%i:%p\\n\" | sort -t \":\" -k1n,1n | cut -d : -f2"
   ]
  },
  {
   "cell_type": "markdown",
   "metadata": {},
   "source": [
    "3. Volgens de manpagina van find kan je met de optie -o op twee dingen testen en zal de naam van het object uitgeprint worden wanneer een van de twee voorwaarden voldaan is. Ook kan je haakjes gebruiken om dit te doen (let wel, in BASH moet je die wel escapen met een \\ om aan te geven dat die haken voor find bedoeld zijn). Geef een overzicht van alle bestanden in de map /etc die een grootte hebben kleiner dan 10K of groter dan 100K."
   ]
  },
  {
   "cell_type": "code",
   "execution_count": null,
   "metadata": {
    "vscode": {
     "languageId": "shellscript"
    }
   },
   "outputs": [],
   "source": [
    "%%bash\n",
    "find / -type f -size -10k -exec wc {} \\;"
   ]
  },
  {
   "cell_type": "markdown",
   "metadata": {},
   "source": [
    "4. Geef van alle bestanden die zich bevinden in de /etc directory bevinden en\n",
    "die een grootte hebben van minder dan 10K het aantal lijnen. Doe dit op\n",
    "twee manieren:\n",
    "* Met de optie -exec van find\n"
   ]
  },
  {
   "cell_type": "code",
   "execution_count": null,
   "metadata": {
    "vscode": {
     "languageId": "shellscript"
    }
   },
   "outputs": [],
   "source": [
    "%%bash\n",
    "find /etc -type f -size -10k -exec wc {} \\;"
   ]
  },
  {
   "cell_type": "markdown",
   "metadata": {},
   "source": [
    "* Door alle namen via een pipe door te geven naar het commando xargs\n",
    "die dan op iedere bestandsnaam het commando wc uitvoert."
   ]
  },
  {
   "cell_type": "code",
   "execution_count": null,
   "metadata": {
    "vscode": {
     "languageId": "shellscript"
    }
   },
   "outputs": [],
   "source": [
    "%%bash\n",
    "find /etc -type f -size -10k | xargs -n 1 wc -l"
   ]
  },
  {
   "cell_type": "markdown",
   "metadata": {},
   "source": [
    "5. Bij het bovenstaande heb je wellicht geen rekening gehouden met\n",
    "bestandsnamen die spaties bevatten. Bij find kan je vragen om de\n",
    "bestandsnamen af te sluiten met een null-karakter i.p.v. een newline (\\n)\n",
    "door middel van de optie -print0. Gebruik nu opnieuw xargs met bijhorende\n",
    "parameters om op iedere null-terminated bestandsnaam “wc -l” toe te\n",
    "passen."
   ]
  },
  {
   "cell_type": "code",
   "execution_count": null,
   "metadata": {
    "vscode": {
     "languageId": "shellscript"
    }
   },
   "outputs": [],
   "source": [
    "%%bash\n",
    "find . -type f -size -10k -print0 | xargs -0 -n 1 wc -l"
   ]
  },
  {
   "cell_type": "markdown",
   "metadata": {},
   "source": [
    "6. Gebruik het commando shuf om 16 getallen te genereren tussen 10 en 50 en gebruik xargs om die uit te schrijven in een raster van 4 bij 4."
   ]
  },
  {
   "cell_type": "code",
   "execution_count": null,
   "metadata": {
    "vscode": {
     "languageId": "shellscript"
    }
   },
   "outputs": [],
   "source": [
    "%%bash\n",
    "shuf -n 16 -i 10-50 | xargs -n 4 echo"
   ]
  },
  {
   "cell_type": "markdown",
   "metadata": {},
   "source": [
    "7. Zelfde vraag als hierboven maar doe dit nu met printf (2 karakter per getal) en command substitution. Je zal zien dat dit een betere uitlijning geeft wanneer je “%2d” gebruikt voor ieder getal."
   ]
  },
  {
   "cell_type": "code",
   "execution_count": null,
   "metadata": {
    "vscode": {
     "languageId": "shellscript"
    }
   },
   "outputs": [],
   "source": [
    "%%bash\n",
    "printf \"2%d %2d %2d %2d\\n\" $(shuf -i 10-50 -n 16)"
   ]
  },
  {
   "cell_type": "markdown",
   "metadata": {},
   "source": [
    "8. Dit jaar niet.\n",
    "9. Niet doen!\n",
    "10. Zou te moeilijk zijn (?)"
   ]
  },
  {
   "cell_type": "markdown",
   "metadata": {},
   "source": [
    "11. Waarvoor dient de shebang lijn in een script? (vb. #!/bin/bash)\n",
    "\n",
    "Zodat de shell weet welke interpreter gebruikt moet worden om het script uit te voeren als er geen expliciete interpreter wordt opgegeven."
   ]
  },
  {
   "cell_type": "markdown",
   "metadata": {},
   "source": [
    "12. Wat is het type van iedere variabele in BASH?"
   ]
  },
  {
   "cell_type": "markdown",
   "metadata": {},
   "source": [
    "String"
   ]
  },
  {
   "cell_type": "markdown",
   "metadata": {},
   "source": [
    "13. Wanneer is het handig of zelfs noodzakelijk om bij het uitschrijven van een\n",
    "variabele de variabelenaam tussen accolades te plaatsen?"
   ]
  },
  {
   "cell_type": "markdown",
   "metadata": {},
   "source": [
    "Bij ambiguïteit, bv. `echo $13` => `echo ${13}`"
   ]
  },
  {
   "cell_type": "markdown",
   "metadata": {},
   "source": [
    "14. Schrijf een BASH-script dat een getal inleest (geen controle nodig) en de\n",
    "derdemacht van dat getal naar het scherm schrijft (via arithmetic expansion)."
   ]
  },
  {
   "cell_type": "code",
   "execution_count": null,
   "metadata": {
    "vscode": {
     "languageId": "shellscript"
    }
   },
   "outputs": [],
   "source": [
    "%%bash\n",
    "read -p \"Geef een getal in: \" getal\n",
    "echo \"De derde macht van $getal is $(($getal**3))\""
   ]
  },
  {
   "cell_type": "markdown",
   "metadata": {},
   "source": [
    "15. Schrijf een script dat een IPv4-adres inleest en dat daarna dat IPv4-adres\n",
    "opsplitst in vier variabelen. Daarna check je of ieder van deze variabelen\n",
    "bestaat en of dat het een getal voorstelt en of dat dat getal binnen de\n",
    "grenzen [0-255] ligt. Indien deze voorwaarde niet voldaan is, dan is het geen\n",
    "geldig IPv4-adres! Het script eindigt met een passende foutboodschap\n",
    "wanneer er geen geldig IPv4 adres werd ingelezen. (Met een reguliere\n",
    "expressie testen op de geldigheid van een IPv4-adres is niet eenvoudig maar\n",
    "de constructie hierboven maakt het makkelijker)"
   ]
  },
  {
   "cell_type": "code",
   "execution_count": null,
   "metadata": {
    "vscode": {
     "languageId": "shellscript"
    }
   },
   "outputs": [],
   "source": [
    "%%bash\n",
    "read -p \"Geef een IPv4-adres in: \" ip\n",
    "IFS=. read a b c d rest <<< \"$ip\"\n",
    "if [ \"$a\" -ge 0 -a \"$a\" -le 255 ] && [ \"$b\" -ge 0 -a \"$b\" -le 255 ] && [ \"$c\" -ge 0 -a \"$c\" -le 255 ] && [ \"$d\" -ge 0 -a \"$d\" -le 255 ]; then\n",
    "  echo \"Het ingegeven adres is correct.\"\n",
    "else\n",
    "  echo \"Het ingegeven adres is fout.\"\n",
    "fi"
   ]
  },
  {
   "cell_type": "markdown",
   "metadata": {},
   "source": [
    "16. Schrijf nu hetzelfde script als hierboven maar geef het IP-adres als een\n",
    "parameter mee met het script. Als de parameter niet wordt meegegeven, dan\n",
    "wordt verondersteld dat het IP-adres dat je moet checken 192.168.16.8 is."
   ]
  },
  {
   "cell_type": "code",
   "execution_count": null,
   "metadata": {
    "vscode": {
     "languageId": "shellscript"
    }
   },
   "outputs": [],
   "source": [
    "%%bash \n",
    "if (( $# != 1 )); then\n",
    "    ip=\"192.168.16.8\"\n",
    "else\n",
    "    ip=$1\n",
    "fi\n",
    "IFS=. read a b c d rest <<< \"$ip\"\n",
    "if [ \"$a\" -ge 0 -a \"$a\" -le 255 ] && [ \"$b\" -ge 0 -a \"$b\" -le 255 ] && [ \"$c\" -ge 0 -a \"$c\" -le 255 ] && [ \"$d\" -ge 0 -a \"$d\" -le 255 ]; then\n",
    "  echo \"Het ingegeven adres is correct.\"\n",
    "else\n",
    "  echo \"Het ingegeven adres is fout.\"\n",
    "fi"
   ]
  },
  {
   "cell_type": "markdown",
   "metadata": {},
   "source": [
    "17. Gebruik stringoperatoren om alle klinkers uit een woord te vervangen door\n",
    "een punt. (probeer dit ook eens uit via de externe opdracht tr)\n"
   ]
  },
  {
   "cell_type": "code",
   "execution_count": null,
   "metadata": {
    "vscode": {
     "languageId": "shellscript"
    }
   },
   "outputs": [],
   "source": [
    "%%bash\n",
    "tr \"aeoiuy\" \".\" <<< \"Dit is vandaag een maandag\"\n",
    "a=\"Dit is vandaag een maandag\"\n",
    "echo ${a//[aeuoiy]/.}"
   ]
  },
  {
   "cell_type": "markdown",
   "metadata": {},
   "source": [
    "18. Hoe kan je van een getal dat de bestandsgrootte in bytes voorstelt en waarbij\n",
    "digit grouping gebruikt wordt, bv. 131.273.678, één getal maken en dat getal\n",
    "in kilobytes naar het scherm schrijven"
   ]
  },
  {
   "cell_type": "markdown",
   "metadata": {},
   "source": [
    "Ik ga er van uit dat het mee gegeven wordt met het script en anders neem ik het voorbeeld getal 131.273.678"
   ]
  },
  {
   "cell_type": "code",
   "execution_count": 20,
   "metadata": {
    "vscode": {
     "languageId": "shellscript"
    }
   },
   "outputs": [
    {
     "name": "stdout",
     "output_type": "stream",
     "text": [
      "De bestandsgrootte is 128196 kB.\n"
     ]
    }
   ],
   "source": [
    "%%bash\n",
    "if (( $# != 1 )); then\n",
    "    filesize=\"131.273.678\"\n",
    "else\n",
    "    filesize=$1\n",
    "fi\n",
    "filesize=${filesize//./}\n",
    "filesize_kb=$(($filesize / 1024))\n",
    "echo \"De bestandsgrootte is $filesize_kb kB.\""
   ]
  },
  {
   "cell_type": "markdown",
   "metadata": {},
   "source": [
    "19. Schrijf in C een eigen versie van het commando du. De bestandsgrootte kan je\n",
    "opvragen met de syscall stat."
   ]
  },
  {
   "cell_type": "markdown",
   "metadata": {},
   "source": [
    "```c\n",
    "#include <stdlib.h>\n",
    "#include <stdio.h>\n",
    "#include <unistd.h>\n",
    "#include <sys/types.h>\n",
    "#include <sys/stat.h>\n",
    "#include <fcntl.h>\n",
    "\n",
    "typedef struct stat stat;\n",
    "\n",
    "int main(int argc, char** argv) {\n",
    "    for (int i=1; i<argc; i++) {\n",
    "        int fd = open(argv[i], O_RDONLY);\n",
    "        if (fd<0) {\n",
    "            perror(argv[i]);\n",
    "            continue;\n",
    "        }\n",
    "        struct stat s;\n",
    "        if (fstat(fd, &s)<0) {\n",
    "            perror(argv[i]);\n",
    "            close(fd);\n",
    "            continue;\n",
    "        }\n",
    "        if (S_ISREG(s.st_mode))\n",
    "            printf(\"%d\\t%s\\n\", s.st_size, argv[i]);\n",
    "        close(fd);\n",
    "    }\n",
    "}\n",
    "```"
   ]
  }
 ],
 "metadata": {
  "kernelspec": {
   "display_name": "Python 3",
   "language": "python",
   "name": "python3"
  },
  "language_info": {
   "codemirror_mode": {
    "name": "ipython",
    "version": 3
   },
   "file_extension": ".py",
   "mimetype": "text/x-python",
   "name": "python",
   "nbconvert_exporter": "python",
   "pygments_lexer": "ipython3",
   "version": "3.10.12"
  }
 },
 "nbformat": 4,
 "nbformat_minor": 2
}
