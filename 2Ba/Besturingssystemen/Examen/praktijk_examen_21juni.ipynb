{
 "cells": [
  {
   "cell_type": "markdown",
   "metadata": {},
   "source": [
    "# Deel II (BASH scripting)\n",
    "\n",
    "In dit deel gebeurt alles met bash-internals, behalve de opdracht sort die je uitsluitend gebruikt om te\n",
    "ordenen. Het gebruikt van externe commando’s en ook andere interpreters zoals awk, sed, python, perl,\n",
    "... is niet toegelaten. Enkel het externe commando sort mag je gebruiken in één van de onderstaande\n",
    "opgaven om te ordenen/sorteren."
   ]
  },
  {
   "cell_type": "markdown",
   "metadata": {},
   "source": [
    "1. [7.5pt] Gegeven het invoerbestand tokyo_metro.txt.\n",
    "\n",
    "* a) Schrijf een script 1a.bash dat alle namen van de verschillende metrolijnen naar het scherm schrijft. Één naam van een metrolijn per lijn. De uitvoer hoeft niet geordend te zijn."
   ]
  },
  {
   "cell_type": "code",
   "execution_count": null,
   "metadata": {
    "vscode": {
     "languageId": "shellscript"
    }
   },
   "outputs": [],
   "source": [
    "%%bash\n",
    "#!/bin/bash\n",
    "\n",
    "eerste=0\n",
    "while IFS=, read naam rest ; do\n",
    "    ((eerste==0)) && { eerste=1 ; continue ; }\n",
    "    echo ${naam}\n",
    "done < tokyo_metro.txt"
   ]
  },
  {
   "cell_type": "markdown",
   "metadata": {},
   "source": [
    "* b) Schrijf een script 1b.bash dat alle unieke namen van alle metrostations geordend op naam,\n",
    "naar het scherm schrijft. Eén stationsnaam per lijn. Opgelet, er zijn enkele stations waar er een spatie in de naam te vinden is, bv. Oshiage < SKYTREE >, Nijubashimae < Marunouchi >, .... Die extra uitleg tussen <...> moet er in de uitvoer bij omdat die gebruikt wordt om het onderscheid te maken tussen een station voor een metrolijn en een gewone spoorlijn die voor een ander station helaas dezelfde naam gebruikt. Gebruik gerust het externe commando sort om te ordenen."
   ]
  },
  {
   "cell_type": "code",
   "execution_count": null,
   "metadata": {
    "vscode": {
     "languageId": "shellscript"
    }
   },
   "outputs": [],
   "source": [
    "%%bash\n",
    "#!/bin/bash\n",
    "\n",
    "eerste=0\n",
    "declare -A resultaat\n",
    "while read line ; do\n",
    "    ((eerste==0)) && { eerste=1 ; continue ; }\n",
    "    IFS=, read -a array <<< \"$line\"\n",
    "    unset array[0]\n",
    "    unset array[1]\n",
    "    # quotes om spaties in de array elementen te behouden\n",
    "    for i in \"${array[@]}\" ; do\n",
    "        IFS='[' read station rest <<< \"$i\"\n",
    "        resultaat[$station]=1\n",
    "    done\n",
    "done < tokyo_metro.txt\n",
    "\n",
    "for station in \"${!resultaat[@]}\" ; do\n",
    "    echo $station\n",
    "done | sort"
   ]
  },
  {
   "cell_type": "markdown",
   "metadata": {},
   "source": [
    "Extra opties voor het examen: enkel de verhoogde stations geven, enkel de stations die de eerste x kilometer van de lijn liggen..."
   ]
  },
  {
   "cell_type": "code",
   "execution_count": null,
   "metadata": {
    "vscode": {
     "languageId": "shellscript"
    }
   },
   "outputs": [],
   "source": [
    "%%bash\n",
    "#!/bin/bash\n",
    "\n",
    "eerste=0\n",
    "declare -A resultaat\n",
    "while read line ; do\n",
    "    ((eerste==0)) && { eerste=1 ; continue ; }\n",
    "    IFS=, read -a array <<< \"$line\"\n",
    "    unset array[0]\n",
    "    unset array[1]\n",
    "    # quotes om spaties in de array elementen te behouden\n",
    "    for i in \"${array[@]}\" ; do\n",
    "        IFS='[' read station rest <<< \"$i\"\n",
    "        IFS='(' read voor km verhoogd <<< \"$rest\"\n",
    "        if [[ ${verhoogd%.*} != \"Underground\" ]] ; then\n",
    "            echo $station\n",
    "        fi  \n",
    "        resultaat[$station]=1\n",
    "    done\n",
    "done < tokyo_metro.txt\n",
    "\n",
    "echo \"\"\n",
    "echo \"Stations boven de grond (gesorteerd):\"\n",
    "\n",
    "for station in \"${!resultaat[@]}\" ; do\n",
    "    echo $station\n",
    "done | sort"
   ]
  },
  {
   "cell_type": "code",
   "execution_count": null,
   "metadata": {
    "vscode": {
     "languageId": "shellscript"
    }
   },
   "outputs": [],
   "source": [
    "%%bash\n",
    "#!/bin/bash\n",
    "\n",
    "eerste=0\n",
    "declare -A resultaat\n",
    "grens=5\n",
    "while read line ; do\n",
    "    ((eerste==0)) && { eerste=1 ; continue ; }\n",
    "    IFS=, read -a array <<< \"$line\"\n",
    "    unset array[0]\n",
    "    unset array[1]\n",
    "    # quotes om spaties in de array elementen te behouden\n",
    "    for i in \"${array[@]}\" ; do\n",
    "        IFS='[' read station rest <<< \"$i\"\n",
    "        IFS='(' read voor km verhoogd <<< \"$rest\"\n",
    "        if (( ${km%.*} < $grens )) ; then\n",
    "            echo $station\n",
    "        fi  \n",
    "        resultaat[$station]=1\n",
    "    done\n",
    "done < tokyo_metro.txt\n",
    "\n",
    "for station in \"${!resultaat[@]}\" ; do\n",
    "    echo $station\n",
    "done | sort"
   ]
  },
  {
   "cell_type": "markdown",
   "metadata": {},
   "source": [
    "Vanaf je ziet staan \"het begint met\" of \"het eindigt op\" moet je denken aan **reguliere expressies**"
   ]
  },
  {
   "cell_type": "markdown",
   "metadata": {},
   "source": [
    "2. [7.5 pt] Schrijf een bash-script met de naam 2.bash. Dit script accepteert verschillende opties en parameters. Het script moet controleren of de ingevoerde opties en parameters geldig zijn. Als alles correct is, moet het script de namen van de gebruikte opties (zonder het voorafgaande minteken) naar het scherm schrijven. In het geval van ongeldige invoer moet het script een foutboodschap weergeven en stoppen met een specifieke exit-status. **Het gebruik van getopt is niet toegelaten!**\n",
    "\n",
    "Opties en parameters:\n",
    "* -f: Deze optie moet worden gevolgd door de naam van een bestand. Het script moet\n",
    "controleren of het bestand bestaat en leesbaar is.\n",
    "* -s: Deze optie moet worden gevolgd door een getal dat eindigt op KB, MB, of GB, zonder\n",
    "spaties tussen het getal en de eenheid. Bijvoorbeeld: 10MB, 500GB, 107KB. Het getal moet\n",
    "groter zijn dan 5. Bijvoorbeeld: 2GB is niet geldig omdat 2 kleiner is dan 5.\n",
    "* -n, -r, -t: Deze zijn eenvoudige vlaggen zonder extra parameters. Andere opties dan deze\n",
    "worden niet herkend door het script en moeten een fout veroorzaken.\n",
    "\n",
    "Bijkomende specificaties:\n",
    "* De volgorde van de opties maakt niet uit.\n",
    "* Het script moet niet gevoelig zijn voor hoofdletters of kleine letters. Bijvoorbeeld, -N en -n\n",
    "moeten als gelijkwaardig worden beschouwd.\n",
    "* Opties kunnen worden samengevoegd (bijvoorbeeld, -n -r kan worden geschreven als -nr),\n",
    "maar de -f en -s opties moeten afzonderlijk blijven vanwege hun parameters.\n",
    "\n",
    "Voorbeelden van correct gebruik:\n",
    "* 2.bash -n -S 100KB -tr\n",
    "* 2.bash -f /etc/passwd -nTr\n",
    "* 2.bash\n",
    "\n",
    "Voorbeelden van onjuist gebruik:\n",
    "* 2.bash -s 2TB -p (2 is kleiner dan 5, TB is geen erkende eenheid, en -p is een onbekende\n",
    "optie)\n",
    "* 2.bash -nt -f nietleesbaarbestand (het bestand is niet leesbaar)\n",
    "\n",
    "Foutboodschap:\n",
    "Als er een fout optreedt, moet het script de volgende boodschap naar het scherm schrijven:\n",
    "**Usage: 2.bash [-f bestandsnaam] [-s size][-n][-r][-t]**\n",
    "Let op: Het gebruik van getopt is niet toegestaan in dit script."
   ]
  },
  {
   "cell_type": "code",
   "execution_count": 32,
   "metadata": {
    "vscode": {
     "languageId": "shellscript"
    }
   },
   "outputs": [],
   "source": [
    "%%bash\n",
    "#!/bin/bash\n",
    "\n",
    "while [[ -n \"$1\" ]] ; do\n",
    "    case $1 in\n",
    "        -f)\n",
    "            [[ ! -f \"$2\" || ! -r \"$2\" ]] && {\n",
    "                echo \"Usage 2.bash ...\" >&2\n",
    "                exit 1\n",
    "            }\n",
    "            shift\n",
    "            ;;\n",
    "        -s)\n",
    "            [[ $2 =~ KB$ || $2 =~ GB$ || $2 =~ MB$  ]] && {\n",
    "                echo \"Usage 2.bash ...\" >&2\n",
    "                exit 1\n",
    "            }\n",
    "            getal = ${2%%??}\n",
    "            [[ ! $getal =~ ^[1-9][0-9]+$ ]] && ! $getal =~ ^[0-9]$ ]] && {\n",
    "                echo \"Usage 2.bash ...\" >&2\n",
    "                exit 1\n",
    "            }\n",
    "            ((getal < 5)) && {\n",
    "                echo \"Usage 2.bash ...\" >&2\n",
    "                exit 1\n",
    "            }\n",
    "            shift\n",
    "            ;;\n",
    "        -*)\n",
    "            temp=${1#?}\n",
    "            while read -N1 kar ; do\n",
    "                [[ $kar != $'\\n' ]] && {\n",
    "                    [[ $kar != \"n\" && $kar != \"r\" && $kar != \"t\" ]] && {\n",
    "                        echo \"Usage 2.bash ...\" >&2\n",
    "                        exit 1\n",
    "                    }\n",
    "                }\n",
    "            done <<< ${temp,,}\n",
    "            ;;\n",
    "    esac\n",
    "    shift\n",
    "done "
   ]
  }
 ],
 "metadata": {
  "kernelspec": {
   "display_name": "Python 3",
   "language": "python",
   "name": "python3"
  },
  "language_info": {
   "codemirror_mode": {
    "name": "ipython",
    "version": 3
   },
   "file_extension": ".py",
   "mimetype": "text/x-python",
   "name": "python",
   "nbconvert_exporter": "python",
   "pygments_lexer": "ipython3",
   "version": "3.10.12"
  }
 },
 "nbformat": 4,
 "nbformat_minor": 2
}
