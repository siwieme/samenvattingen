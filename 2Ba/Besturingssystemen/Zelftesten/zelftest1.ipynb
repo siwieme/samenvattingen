{
 "cells": [
  {
   "cell_type": "markdown",
   "metadata": {},
   "source": [
    "# Zelftest: Allerlei info en Commando’s\n",
    "\n",
    "1. Leg uit wat het verschil is tussen statisch en dynamisch linken? Enkel de uitleg volstaat."
   ]
  },
  {
   "cell_type": "markdown",
   "metadata": {},
   "source": [
    "Bij statisch linken worden alle nodige bibliotheken om een programma uit te voeren bij het compileren toegevoegd aan het programma. Bij dynamisch linken worden de bibliotheken opgezocht op het moment dat het programma wordt uitgevoerd.\n",
    "Bij statisch linken zal de bestandsgrootte van het programma groter zijn."
   ]
  },
  {
   "cell_type": "markdown",
   "metadata": {},
   "source": [
    "2. Hoe kan je een terminal venster leeg maken?"
   ]
  },
  {
   "cell_type": "markdown",
   "metadata": {},
   "source": [
    "Met het commando `clear`"
   ]
  },
  {
   "cell_type": "markdown",
   "metadata": {
    "vscode": {
     "languageId": "plaintext"
    }
   },
   "source": [
    "3. Hoe kan je met het commando man informatie opvragen over de informatie in het bestand /etc/passwd?"
   ]
  },
  {
   "cell_type": "code",
   "execution_count": null,
   "metadata": {
    "vscode": {
     "languageId": "shellscript"
    }
   },
   "outputs": [],
   "source": [
    "%%bash\n",
    "man 5 passwd"
   ]
  },
  {
   "cell_type": "markdown",
   "metadata": {},
   "source": [
    "4. Met het commando man kan je informatie opvragen over externe Linux/Unix-opdrachten. Hoe kan je best info opvragen over interne opdrachten zoals echo, printf, set, cd, ..."
   ]
  },
  {
   "cell_type": "markdown",
   "metadata": {},
   "source": [
    "Je kan de interne opdrachten opvragen met het commando `help` gevolgd door de opdracht waarover je informatie wil. Bijvoorbeeld `help echo`. Maar je kan ook man pages van de opdracht zelf opvragen."
   ]
  },
  {
   "cell_type": "markdown",
   "metadata": {},
   "source": [
    "5. Welk commando kun je gebruiken om:\n",
    "    * gegevens te sorteren? `sort`\n",
    "    * het verschil tussen twee bestanden te bekijken? `diff <bestand1> <bestand2>`\n",
    "    * een bestand of directory te zoeken? `find`\n",
    "    * duplicate regels uit een bestand te verwijderen? `uniq | sort`\n",
    "    * enkel de 10 eerste lijnen uit een bestand op het scherm te tonen? `head -n 10`\n",
    "    * enkel de 10 laatste lijnen uit een bestand op het scherm te tonen? `tail -n 10`\n",
    "    * een string te zoeken in een tekstbestand? `grep <string> <bestand>`\n",
    "    * het aantal lijnen, woorden en karakters van een bestand te tonen? `wc <bestand>`\n"
   ]
  },
  {
   "cell_type": "markdown",
   "metadata": {},
   "source": [
    "6. De inhoud van de /dev-map bevat bestanden die je in twee groepen kan\n",
    "onderverdelen. Block special device files voor harde schijven en andere\n",
    "“mass storage devices” en character special device files voor de overige\n",
    "randapparatuur waar een device-node voor werd voorzien (niet elk device\n",
    "heeft immers een device node). Wat is het essentiële verschil tussen een\n",
    "block- en character special device files?"
   ]
  },
  {
   "cell_type": "markdown",
   "metadata": {},
   "source": [
    "Een block special device file is een bestand dat toegang geeft tot een blok van data, terwijl een character special device file toegang geeft tot een karakter van data."
   ]
  },
  {
   "cell_type": "markdown",
   "metadata": {},
   "source": [
    "7. Wat is de betekenis van de twee getallen die naast een device node vermeld\n",
    "staan?"
   ]
  },
  {
   "cell_type": "markdown",
   "metadata": {},
   "source": [
    "Het eerste getal is de major device number en het tweede getal is de minor device number. De major device number geeft aan welke driver het apparaat bestuurt, terwijl de minor device number aangeeft welk apparaat het is."
   ]
  },
  {
   "cell_type": "markdown",
   "metadata": {
    "vscode": {
     "languageId": "shellscript"
    }
   },
   "source": [
    "8. Gebruik het commando find om een overzicht te krijgen van zowel de\n",
    "character special device files als de block special device files. Probeer het\n",
    "eerst door twee opdrachten te geven en daarna door de twee opdrachten te\n",
    "groeperen in één opdracht."
   ]
  },
  {
   "cell_type": "code",
   "execution_count": null,
   "metadata": {
    "vscode": {
     "languageId": "shellscript"
    }
   },
   "outputs": [],
   "source": [
    "%%bash\n",
    "find /dev -type c\n",
    "find /dev -type b"
   ]
  },
  {
   "cell_type": "code",
   "execution_count": null,
   "metadata": {
    "vscode": {
     "languageId": "shellscript"
    }
   },
   "outputs": [],
   "source": [
    "%%bash\n",
    "find /dev -type c -o -type b"
   ]
  },
  {
   "cell_type": "markdown",
   "metadata": {},
   "source": [
    "9. Leg uit wat het verschil is tussen een hard link en een soft link. Wat zijn de voor- en nadelen van beide."
   ]
  },
  {
   "cell_type": "markdown",
   "metadata": {},
   "source": [
    "Een hardlink wijst altijd van een bestandsnaam naar data op een schijf.\n",
    "Een softlink wijst van een bestandsnaam naar een andere bestandsnaam, die op zijn beurt naar data op een schijf wijst.\n",
    "* Voordelen hardlink: je kan een bestand verwijderen zonder dat de data verloren gaat.\n",
    "* Nadelen hardlink: je kan geen hardlink maken naar een directory.\n",
    "* Voordelen softlink: je kan een softlink maken naar een directory.\n",
    "* Nadelen softlink: als het originele bestand wordt verwijderd, is de softlink niet meer geldig."
   ]
  },
  {
   "cell_type": "markdown",
   "metadata": {},
   "source": [
    "10. Maak in je home-directory een softlink aan naar /etc/passwd en een hardlink\n",
    "naar /etc/group (probeer dit met het commando cp als met het commando ln). Hoe kan je zien of het wel degelijk over een hardlink gaat en niet over een kopie?"
   ]
  },
  {
   "cell_type": "code",
   "execution_count": null,
   "metadata": {
    "vscode": {
     "languageId": "shellscript"
    }
   },
   "outputs": [],
   "source": [
    "%%bash\n",
    "cp -l /etc/group /home\n",
    "cp -s /etc/passwd /home\n",
    "ln /etc/group /home\n",
    "ln -s /etc/passwd /home"
   ]
  },
  {
   "cell_type": "markdown",
   "metadata": {},
   "source": [
    "Je kan zien of het over een hardlink gaat door het commando `ls -l` uit te voeren. Als het over een hardlink gaat, zal het aantal links naar het bestand verhoogd zijn."
   ]
  },
  {
   "cell_type": "markdown",
   "metadata": {},
   "source": [
    "11. Waarom is een pseudo random generator met een beperkt aantal bits geen goede random generator?"
   ]
  },
  {
   "cell_type": "markdown",
   "metadata": {},
   "source": [
    "Een pseudo random generator met een beperkt aantal bits is geen goede random generator omdat de gegenereerde getallen zich herhalen na een bepaald aantal iteraties. Het is dus niet echt random."
   ]
  },
  {
   "cell_type": "markdown",
   "metadata": {},
   "source": [
    "12. Hoe kan je met het commando head en bijhorende optie 4 bytes uit /dev/random halen en deze bytes gewoon zonder te converteren naar het scherm schrijven?"
   ]
  },
  {
   "cell_type": "code",
   "execution_count": null,
   "metadata": {
    "vscode": {
     "languageId": "shellscript"
    }
   },
   "outputs": [],
   "source": [
    "%%bash\n",
    "printf %b | head --bytes 4 /dev/random"
   ]
  },
  {
   "cell_type": "markdown",
   "metadata": {},
   "source": [
    "13. Wat is pathname expansion? Wat zijn de verschillende metatekens die je bij\n",
    "pathname expansion kan gebruiken?"
   ]
  },
  {
   "cell_type": "markdown",
   "metadata": {},
   "source": [
    "Pathname expansion is het proces waarbij een shell een patroon uitbreidt tot een lijst van bestandsnamen. De metatekens die je kan gebruiken zijn `*`, `?`, `[ ]`, `{ }`."
   ]
  },
  {
   "cell_type": "markdown",
   "metadata": {},
   "source": [
    "14. Hoe kan je met het commando “ls -l” een overzicht geven van alle bestandsnamen die bestaan uit minstens twee letters gevolgd door een cijfer gevolgd door een willekeurig aantal karakters?\n"
   ]
  },
  {
   "cell_type": "code",
   "execution_count": null,
   "metadata": {
    "vscode": {
     "languageId": "shellscript"
    }
   },
   "outputs": [],
   "source": [
    "%%bash\n",
    "ls -l | grep -E '^[a-zA-Z]{2,}[0-9].*'"
   ]
  }
 ],
 "metadata": {
  "kernelspec": {
   "display_name": "Python 3",
   "language": "python",
   "name": "python3"
  },
  "language_info": {
   "codemirror_mode": {
    "name": "ipython",
    "version": 3
   },
   "file_extension": ".py",
   "mimetype": "text/x-python",
   "name": "python",
   "nbconvert_exporter": "python",
   "pygments_lexer": "ipython3",
   "version": "3.10.12"
  }
 },
 "nbformat": 4,
 "nbformat_minor": 2
}
