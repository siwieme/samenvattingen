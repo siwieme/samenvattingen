{
 "cells": [
  {
   "cell_type": "markdown",
   "metadata": {},
   "source": [
    "# Zelftest: Allerlei info en Commando’s\n",
    "\n",
    "1. Leg uit wat het verschil is tussen statisch en dynamisch linken? Enkel de uitleg volstaat."
   ]
  },
  {
   "cell_type": "markdown",
   "metadata": {},
   "source": [
    "Bij statisch linken worden alle nodige bibliotheken om een programma uit te voeren bij het compileren toegevoegd aan het programma. Bij dynamisch linken worden de bibliotheken opgezocht op het moment dat het programma wordt uitgevoerd.\n",
    "Bij statisch linken zal de bestandsgrootte van het programma groter zijn."
   ]
  },
  {
   "cell_type": "markdown",
   "metadata": {},
   "source": [
    "2. Hoe kan je een terminal venster leeg maken?"
   ]
  },
  {
   "cell_type": "markdown",
   "metadata": {},
   "source": [
    "Met het commando `clear`"
   ]
  },
  {
   "cell_type": "markdown",
   "metadata": {
    "vscode": {
     "languageId": "plaintext"
    }
   },
   "source": [
    "3. Hoe kan je met het commando man informatie opvragen over de informatie in het bestand /etc/passwd?"
   ]
  },
  {
   "cell_type": "code",
   "execution_count": null,
   "metadata": {
    "vscode": {
     "languageId": "shellscript"
    }
   },
   "outputs": [],
   "source": [
    "%%bash\n",
    "man 5 passwd"
   ]
  },
  {
   "cell_type": "markdown",
   "metadata": {},
   "source": [
    "4. Met het commando man kan je informatie opvragen over externe Linux/Unix-opdrachten. Hoe kan je best info opvragen over interne opdrachten zoals echo, printf, set, cd, ..."
   ]
  },
  {
   "cell_type": "markdown",
   "metadata": {},
   "source": [
    "Je kan de interne opdrachten opvragen met het commando `help` gevolgd door de opdracht waarover je informatie wil. Bijvoorbeeld `help echo`. Maar je kan ook man pages van de opdracht zelf opvragen."
   ]
  },
  {
   "cell_type": "markdown",
   "metadata": {},
   "source": [
    "5. Welk commando kun je gebruiken om:\n",
    "    * gegevens te sorteren? `sort`\n",
    "    * het verschil tussen twee bestanden te bekijken? `diff <bestand1> <bestand2>`\n",
    "    * een bestand of directory te zoeken? `find`\n",
    "    * duplicate regels uit een bestand te verwijderen? `sort | uniq -d`\n",
    "    * enkel de 10 eerste lijnen uit een bestand op het scherm te tonen? `head -n 10`\n",
    "    * enkel de 10 laatste lijnen uit een bestand op het scherm te tonen? `tail -n 10`\n",
    "    * een string te zoeken in een tekstbestand? `grep <string> <bestand>`\n",
    "    * het aantal lijnen, woorden en karakters van een bestand te tonen? `wc <bestand>`\n"
   ]
  },
  {
   "cell_type": "markdown",
   "metadata": {},
   "source": [
    "6. De inhoud van de /dev-map bevat bestanden die je in twee groepen kan\n",
    "onderverdelen. Block special device files voor harde schijven en andere\n",
    "“mass storage devices” en character special device files voor de overige\n",
    "randapparatuur waar een device-node voor werd voorzien (niet elk device\n",
    "heeft immers een device node). Wat is het essentiële verschil tussen een\n",
    "block- en character special device files?"
   ]
  },
  {
   "cell_type": "markdown",
   "metadata": {},
   "source": [
    "Een block special device file is een bestand dat toegang geeft tot een blok van data, terwijl een character special device file toegang geeft tot een karakter van data."
   ]
  },
  {
   "cell_type": "markdown",
   "metadata": {},
   "source": [
    "7. Wat is de betekenis van de twee getallen die naast een device node vermeld\n",
    "staan?"
   ]
  },
  {
   "cell_type": "markdown",
   "metadata": {},
   "source": [
    "Het eerste getal is de major device number en het tweede getal is de minor device number. De major device number geeft aan welke driver het apparaat bestuurt, terwijl de minor device number aangeeft welk apparaat het is."
   ]
  },
  {
   "cell_type": "markdown",
   "metadata": {
    "vscode": {
     "languageId": "shellscript"
    }
   },
   "source": [
    "8. Gebruik het commando find om een overzicht te krijgen van zowel de\n",
    "character special device files als de block special device files. Probeer het\n",
    "eerst door twee opdrachten te geven en daarna door de twee opdrachten te\n",
    "groeperen in één opdracht."
   ]
  },
  {
   "cell_type": "code",
   "execution_count": null,
   "metadata": {
    "vscode": {
     "languageId": "shellscript"
    }
   },
   "outputs": [],
   "source": [
    "%%bash\n",
    "find /dev -type c\n",
    "find /dev -type b"
   ]
  },
  {
   "cell_type": "code",
   "execution_count": null,
   "metadata": {
    "vscode": {
     "languageId": "shellscript"
    }
   },
   "outputs": [],
   "source": [
    "%%bash\n",
    "find /dev -type c -o -type b"
   ]
  },
  {
   "cell_type": "markdown",
   "metadata": {},
   "source": [
    "9. Leg uit wat het verschil is tussen een hard link en een soft link. Wat zijn de voor- en nadelen van beide."
   ]
  },
  {
   "cell_type": "markdown",
   "metadata": {},
   "source": [
    "Een hardlink wijst altijd van een bestandsnaam naar data op een schijf.\n",
    "Een softlink wijst van een bestandsnaam naar een andere bestandsnaam, die op zijn beurt naar data op een schijf wijst.\n",
    "* Voordelen hardlink: je kan een bestand verwijderen zonder dat de data verloren gaat.\n",
    "* Nadelen hardlink: je kan geen hardlink maken naar een directory.\n",
    "* Voordelen softlink: je kan een softlink maken naar een directory.\n",
    "* Nadelen softlink: als het originele bestand wordt verwijderd, is de softlink niet meer geldig."
   ]
  },
  {
   "cell_type": "markdown",
   "metadata": {},
   "source": [
    "10. Maak in je home-directory een softlink aan naar /etc/passwd en een hardlink\n",
    "naar /etc/group (probeer dit met het commando cp als met het commando ln). Hoe kan je zien of het wel degelijk over een hardlink gaat en niet over een kopie?"
   ]
  },
  {
   "cell_type": "code",
   "execution_count": null,
   "metadata": {
    "vscode": {
     "languageId": "shellscript"
    }
   },
   "outputs": [],
   "source": [
    "%%bash\n",
    "cp -l /etc/group /home\n",
    "cp -s /etc/passwd /home\n",
    "ln /etc/group /home\n",
    "ln -s /etc/passwd /home"
   ]
  },
  {
   "cell_type": "markdown",
   "metadata": {},
   "source": [
    "Je kan zien of het over een hardlink gaat door het commando `ls -l` uit te voeren. Als het over een hardlink gaat, zal het aantal links naar het bestand verhoogd zijn."
   ]
  },
  {
   "cell_type": "markdown",
   "metadata": {},
   "source": [
    "11. Waarom is een pseudo random generator met een beperkt aantal bits geen goede random generator?"
   ]
  },
  {
   "cell_type": "markdown",
   "metadata": {},
   "source": [
    "Een pseudo random generator met een beperkt aantal bits is geen goede random generator omdat de gegenereerde getallen zich herhalen na een bepaald aantal iteraties. Het is dus niet echt random."
   ]
  },
  {
   "cell_type": "markdown",
   "metadata": {},
   "source": [
    "12. Hoe kan je met het commando head en bijhorende optie 4 bytes uit /dev/random halen en deze bytes gewoon zonder te converteren naar het scherm schrijven?"
   ]
  },
  {
   "cell_type": "code",
   "execution_count": null,
   "metadata": {
    "vscode": {
     "languageId": "shellscript"
    }
   },
   "outputs": [],
   "source": [
    "%%bash\n",
    "head --bytes 4 /dev/random"
   ]
  },
  {
   "cell_type": "markdown",
   "metadata": {},
   "source": [
    "13. Wat is pathname expansion? Wat zijn de verschillende metatekens die je bij\n",
    "pathname expansion kan gebruiken?"
   ]
  },
  {
   "cell_type": "markdown",
   "metadata": {},
   "source": [
    "Pathname expansion is het proces waarbij een shell een patroon uitbreidt tot een lijst van bestandsnamen. De metatekens die je kan gebruiken zijn `*`, `?`, `[ ]`, `{ }`."
   ]
  },
  {
   "cell_type": "markdown",
   "metadata": {},
   "source": [
    "14. Hoe kan je met het commando “ls -l” een overzicht geven van alle bestandsnamen die bestaan uit minstens twee letters gevolgd door een cijfer gevolgd door een willekeurig aantal karakters?\n"
   ]
  },
  {
   "cell_type": "code",
   "execution_count": null,
   "metadata": {
    "vscode": {
     "languageId": "shellscript"
    }
   },
   "outputs": [],
   "source": [
    "%%bash\n",
    "ls -l [a-z][a,z][0-9]* "
   ]
  },
  {
   "cell_type": "markdown",
   "metadata": {},
   "source": [
    "15. Wanneer je “echo *” ingeeft, welk proces zorgt dan dat die * wordt omgezet naar bestandsnamen?"
   ]
  },
  {
   "cell_type": "markdown",
   "metadata": {},
   "source": [
    "Bash zelf. Het proces genaamd pathname expansion zorgt ervoor dat de * wordt omgezet naar bestandsnamen. (zie vraag 13)"
   ]
  },
  {
   "cell_type": "markdown",
   "metadata": {},
   "source": [
    "16. Maak met touch een bestand aan met als naam passwd in je huidige werkdirectory. Zoek nu met het commando find naar alle bestands- en\n",
    "directorynamen, te beginnen bij /, die beginnen met het woord pass gevolgd door 0 of meerdere willekeurige tekens? Zorg dat find hier het *-teken omzet naar 0 of meerdere willekeurige tekens."
   ]
  },
  {
   "cell_type": "code",
   "execution_count": null,
   "metadata": {
    "vscode": {
     "languageId": "shellscript"
    }
   },
   "outputs": [],
   "source": [
    "%%bash\n",
    "touch passwd\n",
    "find . -type f -name \"pass*\""
   ]
  },
  {
   "cell_type": "markdown",
   "metadata": {},
   "source": [
    "Quotes zijn belangrijk want die pass* is voor find bedoeld en mag niet door Bash omgezet worden via pathname expansion wat zal gebeuren want je hebt met touch een bestand aangemaakt met als naam passwd. Dus bij u zal pass* vervangen worden door passwd en bij mij blijft het pass*"
   ]
  },
  {
   "cell_type": "markdown",
   "metadata": {},
   "source": [
    "17. Genereer met brace expansion alle hexadecimale getallen van 00 tot FF."
   ]
  },
  {
   "cell_type": "code",
   "execution_count": null,
   "metadata": {
    "vscode": {
     "languageId": "shellscript"
    }
   },
   "outputs": [],
   "source": [
    "%%bash\n",
    "echo {{0..9},{A..F}}{{0..9},{A..F}}"
   ]
  },
  {
   "cell_type": "markdown",
   "metadata": {},
   "source": [
    "18. Wat doet het commando sync? Wat wordt er bedoeld met mounten en unmounten?"
   ]
  },
  {
   "cell_type": "markdown",
   "metadata": {},
   "source": [
    "Het commando sync zorgt ervoor dat alle buffers naar de schijf worden geschreven (tijdelijke bestanden worden permanent gemaakt).\n",
    "Mounten is het koppelen van een bestandssysteem aan een directory in de bestandsstructuur. \n",
    "Unmounten is het ontkoppelen van een bestandssysteem van een directory in de bestandsstructuur."
   ]
  },
  {
   "cell_type": "markdown",
   "metadata": {},
   "source": [
    "19. Welke filedescriptoren worden er gebruikt voor standaard invoer, standaard uitvoer en het standaardfoutenkanaal? Wat is het essentiële verschil tussen de twee uitvoerkanalen?"
   ]
  },
  {
   "cell_type": "markdown",
   "metadata": {},
   "source": [
    "Voor standaardinvoer wordt filedescriptor 0 gebruikt, voor standaarduitvoer wordt filedescriptor 1 gebruikt en voor het standaardfoutenkanaal wordt filedescriptor 2 gebruikt. <br>\n",
    "Het verschil tussen standaarduitvoer en het standaardfoutenkanaal is dat standaarduitvoer bedoeld is voor normale uitvoer, terwijl het standaardfoutenkanaal bedoeld is voor foutmeldingen.\n",
    "~ Vb: `ls 1> bestand` zal de uitvoer van ls naar bestand schrijven, terwijl `ls 2> bestand` de foutmeldingen van ls naar bestand schrijft."
   ]
  },
  {
   "cell_type": "markdown",
   "metadata": {},
   "source": [
    "\n",
    "20. Waarvoor dient /dev/null? Hoe kan je de gebufferde uitvoer van een\n",
    "willekeurige opdracht naar /dev/null schrijven? Hoe kan je de niet-gebufferde\n",
    "uitvoer van een willekeurige opdracht naar /dev/null schrijven? Hoe kan je\n",
    "ervoor zorgen dat ze nu allebeide naar /dev/null worden gestuurd?\n"
   ]
  },
  {
   "cell_type": "markdown",
   "metadata": {},
   "source": [
    "De /dev/null is een speciaal bestand dat alle data die ernaar wordt geschreven, negeert.\n",
    "* Gebufferde uitvoer naar /dev/null schrijven: `opdracht > /dev/null`\n",
    "* Niet-gebufferde uitvoer naar /dev/null schrijven: `opdracht 2> /dev/null`\n",
    "* Beide naar /dev/null schrijven: `opdracht > /dev/null 2>&1`"
   ]
  },
  {
   "cell_type": "markdown",
   "metadata": {},
   "source": [
    "21. Wanneer is het handig om gebufferde uitvoer om te zetten naar niet gebufferde uitvoer? Wanneer is het nodig om niet-gebufferde uitvoer naar\n",
    "gebufferde uitvoer om te zetten?"
   ]
  },
  {
   "cell_type": "markdown",
   "metadata": {},
   "source": [
    "* Niet gebufferd naar gebufferd: goed voor pipes, aangezien enkel gebufferde uitvoer door een pipe kan gaan, aangezien een pipe een queue gebruikt\n",
    "* Gebufferd naar niet-gebufferd: goed voor foutmeldingen, aangezien foutmeldingen onmiddellijk moeten worden weergegeven"
   ]
  },
  {
   "cell_type": "markdown",
   "metadata": {},
   "source": [
    "22. Wat is een pipe? Wat wordt doorgelaten en wat niet?"
   ]
  },
  {
   "cell_type": "markdown",
   "metadata": {},
   "source": [
    "Een pipe is een manier om de uitvoer van een programma / commando door te geven aan een ander programma / commando. Alles wat naar standaarduitvoer wordt geschreven, wordt doorgelaten. Foutmeldingen worden niet doorgelaten."
   ]
  },
  {
   "cell_type": "markdown",
   "metadata": {},
   "source": [
    "23. Tel hoeveel fouten het commando “du /proc” oplevert en maak hierbij gebruik van een pipe?"
   ]
  },
  {
   "cell_type": "code",
   "execution_count": null,
   "metadata": {
    "vscode": {
     "languageId": "shellscript"
    }
   },
   "outputs": [],
   "source": [
    "%%bash\n",
    "du /proc 2>&1 | wc -l"
   ]
  },
  {
   "cell_type": "markdown",
   "metadata": {},
   "source": [
    "24. Gegeven “strace shuf -i 1-10 -n 5”. Strace schrijft de uitvoer van het\n",
    "commando shuf naar stdout. De systeemaanroepen die het commando shuf\n",
    "aan het besturingssysteem heeft gericht worden naar stderr gestuurd.\n",
    "Herschijf de bovenstaande opdracht zodat nu uitvoer van shuf naar /dev/null\n",
    "wordt gestuurd en waarbij de systeemaanroepen kunnen worden overlopen\n",
    "door een pipe naar het commando less."
   ]
  },
  {
   "cell_type": "code",
   "execution_count": null,
   "metadata": {
    "vscode": {
     "languageId": "shellscript"
    }
   },
   "outputs": [],
   "source": [
    "%%bash\n",
    "strace shuf -i 1-10 -n 5 1> /dev/null 2>&1 | less"
   ]
  },
  {
   "cell_type": "markdown",
   "metadata": {},
   "source": [
    "25. Open de manpagina van de opdracht tr. Maak ook een bestand aan met\n",
    "uitsluitend leestekens en kleine letters. Hoe kan je met tr alle tekst uit dit\n",
    "bestand omzetten naar een hoofdletters? Het commando tr kent geen\n",
    "bestandparameters waardoor je met input en output redirection zal moeten\n",
    "werken. Bemerk ook dat het een slecht idee is om binnen een proces van een\n",
    "bestand te lezen en er ook naartoe te schrijven. Maak dus gebruik van een\n",
    "tijdelijk bestand dat je na tr met de opdracht cp naar het originele bestand\n",
    "kopieert (en waardoor dus het oorspronkelijk bestand overschreven wordt)."
   ]
  },
  {
   "cell_type": "code",
   "execution_count": null,
   "metadata": {
    "vscode": {
     "languageId": "shellscript"
    }
   },
   "outputs": [],
   "source": [
    "%%bash\n",
    "echo \"wowie ik ben een beetje... moe van de hectische examenweek, maar ik ben er nog steeds!\" > bestand.txt\n",
    "tr '[:lower:]' '[:upper:]' < bestand.txt > bestand2.txt\n",
    "cp bestand2.txt bestand.txt\n",
    "rm bestand2.txt"
   ]
  },
  {
   "cell_type": "markdown",
   "metadata": {},
   "source": [
    "26. Hoe wordt het regeleinde aangegeven in Windows en hoe wordt dit gedaan\n",
    "in Linux? Het gebruik van het Linux-formaat in Windows geeft problemen,\n",
    "dewelke? Het gebruik van het DOS-formaat geeft dan weer nog grotere\n",
    "problemen in Linux. Waarom?"
   ]
  },
  {
   "cell_type": "markdown",
   "metadata": {},
   "source": [
    "* In Windows: CR LF\n",
    "* In Linux: LF\n",
    "* Windows-programma's die alleen CRLF herkennen kunnen moeite hebben met LF-geformatteerde bestanden, waardoor deze onjuist worden weergegeven of verwerkt.\n",
    "* Linux-programma's en -scripts kunnen problemen hebben met de extra \\r-karakters van CRLF-geformatteerde bestanden, wat leidt tot fouten bij script-uitvoering en inconsistent gedrag van tekstverwerkingstools."
   ]
  },
  {
   "cell_type": "markdown",
   "metadata": {},
   "source": [
    "27. Gebruik het commando od om de inhoud van het bestand /etc/passwd\n",
    "hexadecimaal, in groepjes van 1 byte, op het scherm te tonen. Doe hetzelfde\n",
    "met het commando xxd en vergelijk de uitvoer van beide commando’s. Bekijk\n",
    "uitvoerig de manpagina’s van beide opdrachten!"
   ]
  },
  {
   "cell_type": "code",
   "execution_count": null,
   "metadata": {
    "vscode": {
     "languageId": "shellscript"
    }
   },
   "outputs": [],
   "source": [
    "%%bash\n",
    "od -t x1 /etc/passwd | head -n 5\n",
    "xxd -g 1 /etc/passwd | head -n 5"
   ]
  },
  {
   "cell_type": "markdown",
   "metadata": {},
   "source": [
    "28. Bij vraag 12 werd er gevraagd om 4 bytes (32 bits) te lezen van /dev/random.\n",
    "Zet die uitvoer met het commando od nu om naar een decimaal getal. Hoe\n",
    "zet je het om naar een strikt positief getal? (unsigned dus)"
   ]
  },
  {
   "cell_type": "code",
   "execution_count": null,
   "metadata": {
    "vscode": {
     "languageId": "shellscript"
    }
   },
   "outputs": [],
   "source": [
    "%%bash\n",
    "od -An -tu4 <(head -c 4 /dev/random)"
   ]
  },
  {
   "cell_type": "markdown",
   "metadata": {},
   "source": [
    "29. Gebruik het commando cut (zie manpage) om alle gebruikersnamen (1e veld)\n",
    "uit het wachtwoordenbestand te halen?"
   ]
  },
  {
   "cell_type": "code",
   "execution_count": null,
   "metadata": {
    "vscode": {
     "languageId": "shellscript"
    }
   },
   "outputs": [],
   "source": [
    "%%bash\n",
    "cut -d: -f1 /etc/passwd"
   ]
  },
  {
   "cell_type": "markdown",
   "metadata": {},
   "source": [
    "30. Hoe kan je het bestand /etc/passwd sorteren op het eerste veld? Zie de\n",
    "manpage van sort."
   ]
  },
  {
   "cell_type": "code",
   "execution_count": null,
   "metadata": {
    "vscode": {
     "languageId": "shellscript"
    }
   },
   "outputs": [],
   "source": [
    "%%bash\n",
    "sort -t: -k1,1 -n /etc/passwd"
   ]
  }
 ],
 "metadata": {
  "kernelspec": {
   "display_name": "Python 3",
   "language": "python",
   "name": "python3"
  },
  "language_info": {
   "codemirror_mode": {
    "name": "ipython",
    "version": 3
   },
   "file_extension": ".py",
   "mimetype": "text/x-python",
   "name": "python",
   "nbconvert_exporter": "python",
   "pygments_lexer": "ipython3",
   "version": "3.10.12"
  }
 },
 "nbformat": 4,
 "nbformat_minor": 2
}
